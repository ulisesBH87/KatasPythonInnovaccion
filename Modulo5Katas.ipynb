{
 "cells": [
  {
   "cell_type": "markdown",
   "metadata": {},
   "source": [
    "# Utilizar operadores aritméticos"
   ]
  },
  {
   "cell_type": "code",
   "execution_count": null,
   "metadata": {},
   "outputs": [
    {
     "name": "stdout",
     "output_type": "stream",
     "text": [
      "628949330 km\n",
      "390577533.93 millas\n"
     ]
    }
   ],
   "source": [
    "earthDistace= 149597870 #km\n",
    "jupiterDistance= 778547200 #km\n",
    "distance=jupiterDistance-earthDistace\n",
    "print(abs(distance), \"km\")\n",
    "print((abs(distance)*0.621), \"millas\")\n",
    "\n"
   ]
  },
  {
   "cell_type": "markdown",
   "metadata": {},
   "source": [
    "# Convierte cadenas en números y usa valores absolutos"
   ]
  },
  {
   "cell_type": "code",
   "execution_count": 5,
   "metadata": {},
   "outputs": [
    {
     "name": "stdout",
     "output_type": "stream",
     "text": [
      "1 km\n",
      "0.621 millas\n"
     ]
    }
   ],
   "source": [
    "planet1 = input('Ingresa la distancia en KM del primer planeta respecto al sol')\n",
    "planet2 = input('Ingresa la distancia en KM del segundo planeta respecto al sol')\n",
    "\n",
    "plante1Distance = int (planet1)\n",
    "planet2Distance = int (planet2)\n",
    "\n",
    "distance=plante1Distance - planet2Distance\n",
    "print(abs(distance), \"km\")\n",
    "print((abs(distance)*0.621), \"millas\")\n"
   ]
  }
 ],
 "metadata": {
  "interpreter": {
   "hash": "6b31c23079092b0ed28b74b53b10da0e76e9642bbfdaa5af0fa25679942704eb"
  },
  "kernelspec": {
   "display_name": "Python 3.10.2 64-bit",
   "language": "python",
   "name": "python3"
  },
  "language_info": {
   "codemirror_mode": {
    "name": "ipython",
    "version": 3
   },
   "file_extension": ".py",
   "mimetype": "text/x-python",
   "name": "python",
   "nbconvert_exporter": "python",
   "pygments_lexer": "ipython3",
   "version": "3.10.2"
  },
  "orig_nbformat": 4
 },
 "nbformat": 4,
 "nbformat_minor": 2
}
