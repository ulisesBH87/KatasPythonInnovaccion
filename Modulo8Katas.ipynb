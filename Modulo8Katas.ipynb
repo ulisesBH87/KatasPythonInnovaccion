{
 "cells": [
  {
   "cell_type": "markdown",
   "metadata": {},
   "source": [
    "# Diccionarios de phyton"
   ]
  },
  {
   "cell_type": "code",
   "execution_count": 7,
   "metadata": {},
   "outputs": [
    {
     "name": "stdout",
     "output_type": "stream",
     "text": [
      "Planet: Mars \n",
      " Moons: 2\n",
      "Planet: Mars \n",
      " Circumference: 6752\n"
     ]
    }
   ],
   "source": [
    "planet = {\n",
    "    \"name\": \"Mars\",\n",
    "    \"moons\": 2\n",
    "}\n",
    "\n",
    "print(f\"Planet: {planet['name']} \\n Moons: {planet['moons']}\")\n",
    "\n",
    "planet['circumference (km)'] = {\n",
    "    'polar': 6752,\n",
    "    'equatorial': 6792\n",
    "}\n",
    "\n",
    "print(f\"Planet: {planet['name']} \\n Circumference: {planet['circumference (km)']['polar']}\")\n"
   ]
  },
  {
   "cell_type": "markdown",
   "metadata": {},
   "source": [
    "# Programación dinámica con diccionarios"
   ]
  },
  {
   "cell_type": "code",
   "execution_count": 12,
   "metadata": {},
   "outputs": [
    {
     "name": "stdout",
     "output_type": "stream",
     "text": [
      "Total de lunas:  214\n",
      "Promedio de lunas:  17.833333333333332\n"
     ]
    }
   ],
   "source": [
    "planet_moons = {\n",
    "    'mercury': 0,\n",
    "    'venus': 0,\n",
    "    'earth': 1,\n",
    "    'mars': 2,\n",
    "    'jupiter': 79,\n",
    "    'saturn': 82,\n",
    "    'uranus': 27,\n",
    "    'neptune': 14,\n",
    "    'pluto': 5,\n",
    "    'haumea': 2,\n",
    "    'makemake': 1,\n",
    "    'eris': 1\n",
    "}\n",
    "\n",
    "moons = planet_moons.values()\n",
    "planets = len(planet_moons.keys())\n",
    "\n",
    "totalMoons = 0\n",
    "for moon in moons:\n",
    "    totalMoons = totalMoons + moon\n",
    "\n",
    "avg = totalMoons / planets\n",
    "print(\"Total de lunas: \",totalMoons)\n",
    "print(\"Promedio de lunas: \", avg)"
   ]
  }
 ],
 "metadata": {
  "interpreter": {
   "hash": "6b31c23079092b0ed28b74b53b10da0e76e9642bbfdaa5af0fa25679942704eb"
  },
  "kernelspec": {
   "display_name": "Python 3.10.2 64-bit",
   "language": "python",
   "name": "python3"
  },
  "language_info": {
   "codemirror_mode": {
    "name": "ipython",
    "version": 3
   },
   "file_extension": ".py",
   "mimetype": "text/x-python",
   "name": "python",
   "nbconvert_exporter": "python",
   "pygments_lexer": "ipython3",
   "version": "3.10.2"
  },
  "orig_nbformat": 4
 },
 "nbformat": 4,
 "nbformat_minor": 2
}
