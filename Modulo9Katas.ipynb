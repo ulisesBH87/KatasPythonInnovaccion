{
 "cells": [
  {
   "cell_type": "markdown",
   "metadata": {},
   "source": [
    "# Funciones en python"
   ]
  },
  {
   "cell_type": "markdown",
   "metadata": {},
   "source": [
    "## Argumentos en funciones"
   ]
  },
  {
   "cell_type": "code",
   "execution_count": 9,
   "metadata": {},
   "outputs": [
    {
     "name": "stdout",
     "output_type": "stream",
     "text": [
      "\n",
      "        tank 1: 100 \n",
      "\n",
      "        tank 2: 200 \n",
      "\n",
      "        tank 3: 300 \n",
      "\n",
      "        Average: 200.0\n",
      "    \n"
     ]
    }
   ],
   "source": [
    "def average(list):\n",
    "    total = sum(list)\n",
    "    totalE = len(list)\n",
    "    return total / totalE\n",
    "\n",
    "def readTanks(tank1, tank2, tank3):\n",
    "    list=[tank1, tank2, tank3]\n",
    "    return average(list)\n",
    "\n",
    "def status():\n",
    "    tank1=100\n",
    "    tank2=200\n",
    "    tank3=300\n",
    "    avg=readTanks(tank1, tank2, tank3)\n",
    "    return f\"\"\"\n",
    "        tank 1: {tank1} \\n\n",
    "        tank 2: {tank2} \\n\n",
    "        tank 3: {tank3} \\n\n",
    "        Average: {avg}\n",
    "    \"\"\"\n",
    "\n",
    "print(status())\n",
    "\n",
    "\n"
   ]
  },
  {
   "cell_type": "markdown",
   "metadata": {},
   "source": [
    "## Argumentos de palabra clave"
   ]
  },
  {
   "cell_type": "code",
   "execution_count": 15,
   "metadata": {},
   "outputs": [
    {
     "name": "stdout",
     "output_type": "stream",
     "text": [
      "\n",
      "    We are going to Moon\n",
      "    Total time: 30 minutes\n",
      "    Total fuel left: 300 liters\n",
      "    \n"
     ]
    }
   ],
   "source": [
    "def status(prelaunchTime, flightTime, destination, externalTank, mainTank):\n",
    "    return f\"\"\"\n",
    "    We are going to {destination}\n",
    "    Total time: {prelaunchTime + flightTime} minutes\n",
    "    Total fuel left: {externalTank + mainTank} liters\n",
    "    \"\"\"\n",
    "\n",
    "print(status(10, 20, \"Moon\", 100, 200))\n"
   ]
  },
  {
   "cell_type": "code",
   "execution_count": 14,
   "metadata": {},
   "outputs": [
    {
     "name": "stdout",
     "output_type": "stream",
     "text": [
      "\n",
      "    Mission to Moon\n",
      "    Total time: 60 minutes\n",
      "    Total fuel left: 300 liters\n",
      "    \n"
     ]
    }
   ],
   "source": [
    "def mission_report(destination, *minutes, **fuel):\n",
    "    return f\"\"\"\n",
    "    Mission to {destination}\n",
    "    Total time: {sum(minutes)} minutes\n",
    "    Total fuel left: {sum(fuel.values())} liters\n",
    "    \"\"\"\n",
    "\n",
    "print(mission_report(\"Moon\", 10, 20, 30, externalTank=100, mainTank=200))"
   ]
  },
  {
   "cell_type": "code",
   "execution_count": 17,
   "metadata": {},
   "outputs": [
    {
     "name": "stdout",
     "output_type": "stream",
     "text": [
      "\n",
      "    Mission to Moon\n",
      "    Total time: 60 minutes\n",
      "    Total fuel left: 600 liters\n",
      "    \n"
     ]
    }
   ],
   "source": [
    "def mission_report(destination, *minutes, **fuel):\n",
    "    return f\"\"\"\n",
    "    Mission to {destination}\n",
    "    Total time: {sum(minutes)} minutes\n",
    "    Total fuel left: {sum(fuel.values())} liters\n",
    "    \"\"\"\n",
    "    for tank, liters in fuel.items():\n",
    "        main_report += f\"{tank} tank --> {liters} liters left\\n\"\n",
    "    return main_report\n",
    "\n",
    "print(mission_report(\"Moon\", 10, 20, 30, externalTank=100, mainTank=200, reservTank=300))"
   ]
  }
 ],
 "metadata": {
  "interpreter": {
   "hash": "6b31c23079092b0ed28b74b53b10da0e76e9642bbfdaa5af0fa25679942704eb"
  },
  "kernelspec": {
   "display_name": "Python 3.10.2 64-bit",
   "language": "python",
   "name": "python3"
  },
  "language_info": {
   "codemirror_mode": {
    "name": "ipython",
    "version": 3
   },
   "file_extension": ".py",
   "mimetype": "text/x-python",
   "name": "python",
   "nbconvert_exporter": "python",
   "pygments_lexer": "ipython3",
   "version": "3.10.2"
  },
  "orig_nbformat": 4
 },
 "nbformat": 4,
 "nbformat_minor": 2
}
