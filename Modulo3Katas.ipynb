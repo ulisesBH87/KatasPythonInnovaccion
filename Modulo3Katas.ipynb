{
 "cells": [
  {
   "cell_type": "markdown",
   "metadata": {},
   "source": [
    "# Escribir declaraciones if, else, y elif"
   ]
  },
  {
   "cell_type": "markdown",
   "metadata": {},
   "source": [
    "### Ejercicio 1"
   ]
  },
  {
   "cell_type": "code",
   "execution_count": 4,
   "metadata": {},
   "outputs": [
    {
     "name": "stdout",
     "output_type": "stream",
     "text": [
      "Vamos a morir!!!\n"
     ]
    }
   ],
   "source": [
    "asteroidSpeed = 49\n",
    "if asteroidSpeed > 25:\n",
    "    print(\"Vamos a morir!!!\")\n",
    "else:\n",
    "    print(\"Todo tranquilo :)\")"
   ]
  },
  {
   "cell_type": "markdown",
   "metadata": {},
   "source": [
    "### Ejercicio 2"
   ]
  },
  {
   "cell_type": "code",
   "execution_count": 7,
   "metadata": {},
   "outputs": [
    {
     "name": "stdout",
     "output_type": "stream",
     "text": [
      "No hay nada que mirar :(\n"
     ]
    }
   ],
   "source": [
    "asteroidSpeed= 19\n",
    "if asteroidSpeed >=20:\n",
    "    print(\"Mira al cielo, un asteroide se acerca\")\n",
    "else:\n",
    "    print(\"No hay nada que mirar :(\")"
   ]
  },
  {
   "cell_type": "markdown",
   "metadata": {},
   "source": [
    "# Uso de operadores and y or"
   ]
  },
  {
   "cell_type": "code",
   "execution_count": 20,
   "metadata": {},
   "outputs": [
    {
     "name": "stdout",
     "output_type": "stream",
     "text": [
      "Un asteroide entra en la tierra, podría representar peligro\n"
     ]
    }
   ],
   "source": [
    "asteroidSpeed = 20\n",
    "asteroidSize = 30\n",
    "\n",
    "if asteroidSpeed < 20 and asteroidSize < 25:\n",
    "    print(\"Todo tranquilo\")\n",
    "elif asteroidSpeed >=20 and asteroidSize <=25:\n",
    "    print(\"Un asteroide entra en la tierra, no hay peligro\")\n",
    "elif asteroidSpeed >=20 and asteroidSpeed <=25 and asteroidSize >25:\n",
    "    print(\"Un asteroide entra en la tierra, podría representar peligro\")\n",
    "elif asteroidSpeed >25 and asteroidSize >25:\n",
    "    print(\"Peligro, un asteroide se acerca!!\")\n",
    "else:\n",
    "    print(\"Todo tranquilo\")"
   ]
  }
 ],
 "metadata": {
  "interpreter": {
   "hash": "6b31c23079092b0ed28b74b53b10da0e76e9642bbfdaa5af0fa25679942704eb"
  },
  "kernelspec": {
   "display_name": "Python 3.10.2 64-bit",
   "language": "python",
   "name": "python3"
  },
  "language_info": {
   "codemirror_mode": {
    "name": "ipython",
    "version": 3
   },
   "file_extension": ".py",
   "mimetype": "text/x-python",
   "name": "python",
   "nbconvert_exporter": "python",
   "pygments_lexer": "ipython3",
   "version": "3.10.2"
  },
  "orig_nbformat": 4
 },
 "nbformat": 4,
 "nbformat_minor": 2
}
